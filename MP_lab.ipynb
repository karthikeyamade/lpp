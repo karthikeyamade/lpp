{
  "nbformat": 4,
  "nbformat_minor": 0,
  "metadata": {
    "colab": {
      "name": "MP lab.ipynb",
      "provenance": [],
      "collapsed_sections": [],
      "authorship_tag": "ABX9TyNj2O3NOUKuiRhBaSk65eER",
      "include_colab_link": true
    },
    "kernelspec": {
      "name": "python3",
      "display_name": "Python 3"
    }
  },
  "cells": [
    {
      "cell_type": "markdown",
      "metadata": {
        "id": "view-in-github",
        "colab_type": "text"
      },
      "source": [
        "<a href=\"https://colab.research.google.com/github/karthikeyamade/lpp/blob/main/MP_lab.ipynb\" target=\"_parent\"><img src=\"https://colab.research.google.com/assets/colab-badge.svg\" alt=\"Open In Colab\"/></a>"
      ]
    },
    {
      "cell_type": "code",
      "metadata": {
        "id": "MUKAALKRXlrM",
        "outputId": "2d727c24-8ad1-4399-d103-d029d99ad1ab",
        "colab": {
          "base_uri": "https://localhost:8080/",
          "height": 121
        }
      },
      "source": [
        "%%bash\n",
        "pip install pulp\n",
        "pip install scipy"
      ],
      "execution_count": null,
      "outputs": [
        {
          "output_type": "stream",
          "text": [
            "Requirement already satisfied: pulp in /usr/local/lib/python3.6/dist-packages (2.3)\n",
            "Requirement already satisfied: amply>=0.1.2 in /usr/local/lib/python3.6/dist-packages (from pulp) (0.1.4)\n",
            "Requirement already satisfied: docutils>=0.3 in /usr/local/lib/python3.6/dist-packages (from amply>=0.1.2->pulp) (0.16)\n",
            "Requirement already satisfied: pyparsing in /usr/local/lib/python3.6/dist-packages (from amply>=0.1.2->pulp) (2.4.7)\n",
            "Requirement already satisfied: scipy in /usr/local/lib/python3.6/dist-packages (1.4.1)\n",
            "Requirement already satisfied: numpy>=1.13.3 in /usr/local/lib/python3.6/dist-packages (from scipy) (1.18.5)\n"
          ],
          "name": "stdout"
        }
      ]
    },
    {
      "cell_type": "code",
      "metadata": {
        "id": "04FQCKRyihk8",
        "outputId": "fdcf863e-abc6-4e2d-86e8-575140618e17",
        "colab": {
          "base_uri": "https://localhost:8080/",
          "height": 156
        }
      },
      "source": [
        "import numpy as np;\n",
        "import scipy as sp;\n",
        "z=np.array([-5,-10]);\n",
        "a=np.array([[2,2],[1,5]]);\n",
        "b=np.array([750,1000]);\n",
        "x1_bound=(0,None);\n",
        "x2_bound=(0,None);\n",
        "from scipy.optimize import linprog;\n",
        "result=linprog(z, A_ub=a,b_ub=b,bounds=[x1_bound,x2_bound]);\n",
        "print(result);"
      ],
      "execution_count": 34,
      "outputs": [
        {
          "output_type": "stream",
          "text": [
            "     con: array([], dtype=float64)\n",
            "     fun: -2656.2499776380373\n",
            " message: 'Optimization terminated successfully.'\n",
            "     nit: 4\n",
            "   slack: array([6.22216578e-06, 8.55632129e-06])\n",
            "  status: 0\n",
            " success: True\n",
            "       x: array([218.74999825, 156.24999864])\n"
          ],
          "name": "stdout"
        }
      ]
    },
    {
      "cell_type": "code",
      "metadata": {
        "id": "Gr3JZ4lhYA0s",
        "outputId": "1e1f065e-c583-470a-baf9-9dda1d7bf7ad",
        "colab": {
          "base_uri": "https://localhost:8080/",
          "height": 104
        }
      },
      "source": [
        "#LPP using pulp\n",
        "from pulp import*\n",
        "from fractions import*\n",
        "prob=LpProblem(\"dual problem\",LpMinimize)\n",
        "x1=LpVariable(\"x1\",0)\n",
        "x2=LpVariable(\"x2\",0)\n",
        "prob+=21*x1+50*x2\n",
        "prob+=2*x1+5*x2>=12\n",
        "prob+=3*x1+7*x2>=17\n",
        "prob.solve()\n",
        "for i in prob.variables():\n",
        "    print(\"variable {0}={1}\".format(i.name,i.varValue))\n",
        "print(\"Objective function z={0}\".format(pulp.value(prob.objective)))"
      ],
      "execution_count": null,
      "outputs": [
        {
          "output_type": "stream",
          "text": [
            "variable x1=1.0\n",
            "variable x2=2.0\n",
            "Objective function z=121.0\n"
          ],
          "name": "stdout"
        },
        {
          "output_type": "stream",
          "text": [
            "/usr/local/lib/python3.6/dist-packages/pulp/pulp.py:1195: UserWarning: Spaces are not permitted in the name. Converted to '_'\n",
            "  warnings.warn(\"Spaces are not permitted in the name. Converted to '_'\")\n"
          ],
          "name": "stderr"
        }
      ]
    },
    {
      "cell_type": "code",
      "metadata": {
        "id": "6XqG1CPTazMU",
        "outputId": "d3b9b3bf-7af2-40aa-b669-3336786d6070",
        "colab": {
          "base_uri": "https://localhost:8080/",
          "height": 208
        }
      },
      "source": [
        "#LPP using numpy\n",
        "import numpy as np\n",
        "import scipy as sp\n",
        "z=np.array([-32000,-40000])\n",
        "a=np.array([[455,350],[280,438],[232,522]])\n",
        "b=np.array([2565,24992,29568])\n",
        "from scipy.optimize import linprog\n",
        "x1_bound=(0,None)\n",
        "x2_bound=(0,None)\n",
        "result=linprog(z, A_ub=a,b_ub=b,bounds=(x1_bound,x2_bound),method=\"simplex\",options={\"disp\":\"true\"})\n",
        "print(result)"
      ],
      "execution_count": null,
      "outputs": [
        {
          "output_type": "stream",
          "text": [
            "Optimization terminated successfully.\n",
            "         Current function value: -293142.857143\n",
            "         Iterations: 3\n",
            "     con: array([], dtype=float64)\n",
            "     fun: -293142.85714285716\n",
            " message: 'Optimization terminated successfully.'\n",
            "     nit: 3\n",
            "   slack: array([    0.        , 21782.08571429, 25742.48571429])\n",
            "  status: 0\n",
            " success: True\n",
            "       x: array([0.        , 7.32857143])\n"
          ],
          "name": "stdout"
        }
      ]
    },
    {
      "cell_type": "code",
      "metadata": {
        "id": "E7KqZe9wf5uw",
        "outputId": "f59bbeef-8f72-41bc-9e8d-d90731a68382",
        "colab": {
          "base_uri": "https://localhost:8080/",
          "height": 330
        }
      },
      "source": [
        "#minimiz\n",
        "import pulp as p \n",
        "  \n",
        "# Create a LP Minimization problem \n",
        "Lp_prob = p.LpProblem('Problem', p.LpMinimize)  \n",
        "  \n",
        "# Create problem Variables  \n",
        "x = p.LpVariable(\"x\", lowBound = 0)   # Create a variable x >= 0 \n",
        "y = p.LpVariable(\"y\", lowBound = 0)   # Create a variable y >= 0 \n",
        "  \n",
        "# Objective Function \n",
        "Lp_prob += 3 * x + 5 * y  \n",
        "# Constraints: \n",
        "Lp_prob += 2 * x + 3 * y >= 12\n",
        "Lp_prob += -x + y <= 3\n",
        "Lp_prob += x >= 4\n",
        "Lp_prob += y <= 3\n",
        "  \n",
        "# Display the problem \n",
        "print(Lp_prob) \n",
        "  \n",
        "status = Lp_prob.solve()   # Solver \n",
        "print(p.LpStatus[status])   # The solution status \n",
        "  \n",
        "# Printing the final solution \n",
        "print(p.value(x), p.value(y), p.value(Lp_prob.objective))"
      ],
      "execution_count": null,
      "outputs": [
        {
          "output_type": "stream",
          "text": [
            "Problem:\n",
            "MINIMIZE\n",
            "3*x + 5*y + 0\n",
            "SUBJECT TO\n",
            "_C1: 2 x + 3 y >= 12\n",
            "\n",
            "_C2: - x + y <= 3\n",
            "\n",
            "_C3: x >= 4\n",
            "\n",
            "_C4: y <= 3\n",
            "\n",
            "VARIABLES\n",
            "x Continuous\n",
            "y Continuous\n",
            "\n",
            "Optimal\n",
            "6.0 0.0 18.0\n"
          ],
          "name": "stdout"
        }
      ]
    },
    {
      "cell_type": "code",
      "metadata": {
        "id": "437q7Yp6gEt4",
        "outputId": "f799e518-a621-411f-b888-2a9f9b486c38",
        "colab": {
          "base_uri": "https://localhost:8080/",
          "height": 156
        }
      },
      "source": [
        "#maximize\n",
        "import numpy as np\n",
        "import scipy as sp\n",
        "#create the matrix for objective function and constraints\n",
        "z=np.array([-5,-10])\n",
        "a=np.array([[2,2],[1,5]])\n",
        "b=np.array([750,1000])\n",
        "x1_bound=(0,None)\n",
        "x2_bound=(0,None)\n",
        "from scipy.optimize import linprog\n",
        "#Required command to get result\n",
        "result=linprog(z,A_ub=a,b_ub=b,bounds=[x1_bound,x2_bound])\n",
        "print(result)"
      ],
      "execution_count": null,
      "outputs": [
        {
          "output_type": "stream",
          "text": [
            "     con: array([], dtype=float64)\n",
            "     fun: -2656.2499776380373\n",
            " message: 'Optimization terminated successfully.'\n",
            "     nit: 4\n",
            "   slack: array([6.22216578e-06, 8.55632129e-06])\n",
            "  status: 0\n",
            " success: True\n",
            "       x: array([218.74999825, 156.24999864])\n"
          ],
          "name": "stdout"
        }
      ]
    },
    {
      "cell_type": "code",
      "metadata": {
        "id": "0DWVuG-IdGe4",
        "outputId": "51a5a184-08a9-48cf-85ca-ede6eb909f76",
        "colab": {
          "base_uri": "https://localhost:8080/",
          "height": 173
        }
      },
      "source": [
        "#zero dual min proo\n",
        "from pulp import *\n",
        "from fractions import Fraction\n",
        "prob = LpProblem(\"Dual problem\",LpMinimize)\n",
        "# nonnegativity constraints\n",
        "x1=LpVariable(\"x1\",110)\n",
        "x2=LpVariable(\"x2\",2)\n",
        "x3=LpVariable(\"x3\",56)\n",
        "x4=LpVariable(\"x4\",45)\n",
        "# objective function\n",
        "prob += 900 * x1 + 2200 * x2 + 800 * x3, \"Minimum value of 44 * x1 + 40* x2 + 62 * x3 + 76 * x4\"\n",
        "# main constraints\n",
        "prob += 300*1 + 400*2+100*3<= 2, \"constraint 1\"\n",
        "prob += 100*1 + 300*2+200\n",
        "x3 >= 1.25, \"constraint 2\"\n",
        "prob += x1 >= 0, \"constraint 3\"\n",
        "prob += x2>= 0, \"constraint 4\"\n",
        "prob += x3>= 0, \"constraint 5\"\n",
        "# The problem is solved using PuLP's choice of Solver\n",
        "prob.solve()\n",
        "#print(pulp.LpStatus[prob.status])\n",
        "for i in prob.variables():\n",
        " print(\"Variable {0} = {1}\".format(i.name, i.varValue))\n",
        "print(\"Objective function z = {0}\".format(pulp.value(prob.objective)))"
      ],
      "execution_count": null,
      "outputs": [
        {
          "output_type": "stream",
          "text": [
            "Variable __dummy = None\n",
            "Variable x1 = 110.0\n",
            "Variable x2 = 2.0\n",
            "Variable x3 = 56.0\n",
            "Objective function z = None\n"
          ],
          "name": "stdout"
        },
        {
          "output_type": "stream",
          "text": [
            "/usr/local/lib/python3.6/dist-packages/pulp/pulp.py:1195: UserWarning: Spaces are not permitted in the name. Converted to '_'\n",
            "  warnings.warn(\"Spaces are not permitted in the name. Converted to '_'\")\n",
            "/usr/local/lib/python3.6/dist-packages/pulp/pulp.py:1526: UserWarning: Overwriting previously set objective.\n",
            "  warnings.warn(\"Overwriting previously set objective.\")\n"
          ],
          "name": "stderr"
        }
      ]
    },
    {
      "cell_type": "code",
      "metadata": {
        "id": "fG-qY5iad81A",
        "outputId": "a66ef433-d6f2-4652-ec15-0711e4b109ba",
        "colab": {
          "base_uri": "https://localhost:8080/",
          "height": 104
        }
      },
      "source": [
        "#dual minimize \n",
        "from pulp import *\n",
        "from fractions import Fraction\n",
        "prob = LpProblem(\"Dual problem\",LpMinimize)\n",
        "# nonnegativity constraints\n",
        "x1=LpVariable(\"x1\",0)\n",
        "x2=LpVariable(\"x2\",0)\n",
        "# objective function\n",
        "prob += 21*x1 + 50*x2, \"Minimum value of 21*x1 + 50*x2\"\n",
        "# main constraints\n",
        "prob += 2 * x1 + 5* x2 >= 12, \"constraint 1\"\n",
        "prob += 3 * x1 + 7 * x2 >= 17, \"constraint 2\"\n",
        "# The problem is solved using PuLP's choice of Solver\n",
        "prob.solve()\n",
        "#print(pulp.LpStatus[prob.status])\n",
        "for i in prob.variables():\n",
        " print(\"Variable {0} = {1}\".format(i.name, i.varValue))\n",
        "print(\"Objective function z = {0}\".format(pulp.value(prob.objective)))"
      ],
      "execution_count": null,
      "outputs": [
        {
          "output_type": "stream",
          "text": [
            "Variable x1 = 1.0\n",
            "Variable x2 = 2.0\n",
            "Objective function z = 121.0\n"
          ],
          "name": "stdout"
        },
        {
          "output_type": "stream",
          "text": [
            "/usr/local/lib/python3.6/dist-packages/pulp/pulp.py:1195: UserWarning: Spaces are not permitted in the name. Converted to '_'\n",
            "  warnings.warn(\"Spaces are not permitted in the name. Converted to '_'\")\n"
          ],
          "name": "stderr"
        }
      ]
    }
  ]
}